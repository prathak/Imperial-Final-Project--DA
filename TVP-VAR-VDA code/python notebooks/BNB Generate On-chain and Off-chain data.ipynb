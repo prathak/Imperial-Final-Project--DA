{
 "cells": [
  {
   "cell_type": "code",
   "execution_count": null,
   "metadata": {},
   "outputs": [],
   "source": [
    "import pandas as pd\n",
    "import datetime\n",
    "import numpy as np\n",
    "from forex_python.bitcoin import BtcConverter\n",
    "from datetime import datetime\n",
    "import urllib.parse\n",
    "import urllib.request\n",
    "import requests\n",
    "import json\n",
    "\n",
    "API_KEY = 'e796791dfc9a03772797a8a23f972a0c98157b699d45add99035dead71f40fa6'"
   ]
  },
  {
   "cell_type": "code",
   "execution_count": null,
   "metadata": {},
   "outputs": [],
   "source": [
    "add_df = pd.read_csv('../data/address.csv', skiprows=[1])\n",
    "address_to_name = pd.Series(add_df.Name.values, index = add_df.Adress).to_dict()\n",
    "token_name = 'OMG'\n",
    "agg_type = 'receiver'\n",
    "file_name = \"../data/\" + token_name + \"_data.csv\""
   ]
  },
  {
   "cell_type": "code",
   "execution_count": null,
   "metadata": {},
   "outputs": [],
   "source": [
    "df_on_chain = pd.read_csv(file_name, index_col=[0])\n",
    "df_on_chain[\"date\"] = pd.to_datetime(df_on_chain['time']).dt.strftime(\"%Y-%m-%d\")"
   ]
  },
  {
   "cell_type": "code",
   "execution_count": null,
   "metadata": {},
   "outputs": [],
   "source": [
    "df_on_chain = df_on_chain[df_on_chain['token_sender'].isin(address_to_name.keys()) | df_on_chain['token_receiver'].isin(address_to_name.keys())]\n",
    "df_on_chain.reset_index(inplace=True, drop=True)"
   ]
  },
  {
   "cell_type": "code",
   "execution_count": null,
   "metadata": {},
   "outputs": [],
   "source": [
    "df_on_chain['sender'] = df_on_chain.apply(lambda row: address_to_name[row.token_sender] if row.token_sender in address_to_name else row.token_sender, axis = 1).copy()\n",
    "df_on_chain['receiver'] = df_on_chain.apply(lambda row: address_to_name[row.token_receiver] if row.token_receiver in address_to_name else row.token_receiver, axis = 1).copy()"
   ]
  },
  {
   "cell_type": "code",
   "execution_count": null,
   "metadata": {},
   "outputs": [],
   "source": [
    "df_on_chain['time'] = pd.to_datetime(df_on_chain['time']).dt.floor('H').copy()\n",
    "df_on_chain['time']"
   ]
  },
  {
   "cell_type": "code",
   "execution_count": null,
   "metadata": {},
   "outputs": [],
   "source": [
    "df_on_chain = df_on_chain[df_on_chain[agg_type].isin(address_to_name.values())]"
   ]
  },
  {
   "cell_type": "code",
   "execution_count": null,
   "metadata": {},
   "outputs": [],
   "source": [
    "if agg_type == 'sender':\n",
    "    summary = df_on_chain.groupby(\n",
    "         ['date', 'time','sender']\n",
    "     ).agg(\n",
    "         sum_amount_from = ('amount','sum'),\n",
    "         token     = ('token','min'),\n",
    "    #      sender = ('sender', 'min'),\n",
    "    #      receiver = ('receiver' , 'min')\n",
    "     ).reset_index()\n",
    "\n",
    "    summary['ts'] = summary.apply(lambda row: int(row.time.timestamp()), axis=1)\n",
    "    summary = summary.pivot_table(columns=['sender'], index=['time','ts','token'], values='sum_amount_from').reset_index()\n",
    "\n",
    "else:\n",
    "    summary = df_on_chain.groupby(\n",
    "         ['date', 'time','receiver']\n",
    "     ).agg(\n",
    "         sum_amount_to = ('amount','sum'),\n",
    "         token     = ('token','min'),\n",
    "     ).reset_index()\n",
    "\n",
    "    summary['ts'] = summary.apply(lambda row: int(row.time.timestamp()), axis=1)\n",
    "    summary = summary.pivot_table(columns=['receiver'], index=['time','ts','token'], values='sum_amount_to').reset_index()"
   ]
  },
  {
   "cell_type": "code",
   "execution_count": null,
   "metadata": {},
   "outputs": [],
   "source": [
    "summary=summary.fillna(0)\n",
    "summary.head()"
   ]
  },
  {
   "cell_type": "code",
   "execution_count": null,
   "metadata": {},
   "outputs": [],
   "source": [
    "senders, receivers = df_on_chain.sender.unique().tolist(), df_on_chain.receiver.unique().tolist()\n",
    "\n",
    "exchanges = set(receivers)\n",
    "if agg_type == 'sender':\n",
    "    exchanges = set(senders)\n",
    "\n",
    "exchanges = list(exchanges)"
   ]
  },
  {
   "cell_type": "code",
   "execution_count": null,
   "metadata": {},
   "outputs": [],
   "source": [
    "def get_px_data(symbol, from_ts, to_ts, to=\"BTC\", exchange=None,limit=2000):\n",
    "    params = {'fsym' : symbol, 'tsym': to, 'limit': limit, 'api_key': API_KEY, 'toTs':to_ts}\n",
    "    if exchange:\n",
    "        params['e'] = exchange\n",
    "    url = \"https://min-api.cryptocompare.com/data/v2/histohour?%s\" % urllib.parse.urlencode(params)\n",
    "    data = json.load(urllib.request.urlopen(url))\n",
    "    if data['Response'] == 'Error':\n",
    "        return None, None\n",
    "    dataframe = pd.json_normalize(data['Data']['Data']) \n",
    "    while int(from_ts) < data['Data']['TimeFrom']:\n",
    "        params['toTs']  =  data['Data']['TimeFrom']\n",
    "        url = \"https://min-api.cryptocompare.com/data/v2/histohour?%s\" % urllib.parse.urlencode(params)\n",
    "        data = json.load(urllib.request.urlopen(url))\n",
    "        temp = pd.json_normalize(data['Data']['Data'])\n",
    "        dataframe = pd.concat([dataframe, temp])\n",
    "    \n",
    "    return data['Data']['TimeFrom'], dataframe"
   ]
  },
  {
   "cell_type": "code",
   "execution_count": null,
   "metadata": {},
   "outputs": [],
   "source": [
    "min_ts, max_ts = summary.ts.min(), summary.ts.max()\n",
    "min_ts, max_ts\n",
    "new_df = pd.DataFrame(summary[['ts']].copy())\n",
    "new_df.head()\n",
    "e = []\n",
    "for exchange in exchanges:\n",
    "    \n",
    "    time_from, data = get_px_data(\"BNB\", min_ts, max_ts,to = \"BTC\", exchange=exchange)\n",
    "    if time_from == None:\n",
    "        print(\"Not found for \" + str(exchange))\n",
    "        continue\n",
    "    print(exchange)\n",
    "    e.append(exchange)\n",
    "    col_name = \"price_\" + exchange\n",
    "    col_name2 = \"volumeto_\" + exchange\n",
    "    col_name3 = \"volumefrom_\" + exchange\n",
    "#     new_data = data[[\"time\",\"close\"]].copy()\n",
    "#     new_data = new_data.rename(columns={'close': col_name,'time':'ts' })\n",
    "    new_data = data[[\"time\",\"close\",\"volumeto\",\"volumefrom\"]].copy()\n",
    "    new_data = new_data.rename(columns={'close': col_name,'time':'ts','volumeto':col_name2,'volumefrom':col_name3 })\n",
    "    new_df = pd.merge(new_df, new_data, how='right', on=['ts'])\n",
    "\n",
    "new_df['datetime'] = pd.to_datetime(new_df['ts'], unit='s')"
   ]
  },
  {
   "cell_type": "code",
   "execution_count": null,
   "metadata": {},
   "outputs": [],
   "source": [
    "df_on_chain = summary.copy()\n",
    "df_off_chain = new_df.copy()\n",
    "e = ['ts']\n",
    "e.extend([i.replace('price_','') for i in list(df_off_chain.columns) if 'price' in i  ])\n",
    "df_off_chain = df_off_chain[df_off_chain['ts'].isin(df_on_chain['ts'])]\n",
    "\n",
    "print(e)\n",
    "# e = sorted(e)\n",
    "df_on_chain = df_on_chain[df_on_chain.columns.intersection(e)]\n",
    "df_on_chain = df_on_chain.reindex(columns=e)\n",
    "\n",
    "new_on_chain = df_on_chain.copy()\n",
    "new_off_chain = df_off_chain.copy()\n",
    "new_on_chain = new_on_chain.set_index('ts')\n",
    "new_on_chain = new_on_chain.sort_values(by='ts',ascending=True)\n",
    "new_off_chain = new_off_chain.sort_values(by='ts',ascending=True)\n",
    "\n",
    "\n",
    "for col in e[1:]:\n",
    "    new_name = 'price_' + col\n",
    "    new_name2 = 'volumeto_' + col\n",
    "    new_name3 = 'volumefrom_' + col\n",
    "    new_off_chain[new_name] = new_off_chain[new_name].replace(0,0.0000001)\n",
    "    new_off_chain[new_name2] = new_off_chain[new_name2].replace(0,1)\n",
    "    new_off_chain[new_name3] = new_off_chain[new_name3].replace(0,1)\n",
    "    new_off_chain[col] = new_off_chain[new_name].divide(new_off_chain[new_name].shift()) - 1\n",
    "    new_off_chain[new_name2] = new_off_chain[new_name2].divide(new_off_chain[new_name2].shift()) - 1\n",
    "\n",
    "    new_off_chain[new_name3] = new_off_chain[new_name3].divide(new_off_chain[new_name3].shift()) - 1\n",
    "\n",
    "    del new_off_chain[new_name]\n",
    "\n",
    "new_off_chain = new_off_chain[1:]\n",
    "new_off_chain = new_off_chain.set_index('ts')\n",
    "new_off_chain.to_csv('../data/BNB_price_volume_data.csv')\n",
    "new_off_chain = new_off_chain[new_off_chain.index.isin(new_on_chain.index)]\n",
    "new_off_chain = new_off_chain.groupby(['ts']).max()\n"
   ]
  },
  {
   "cell_type": "code",
   "execution_count": null,
   "metadata": {},
   "outputs": [],
   "source": [
    "cols = new_off_chain.columns.tolist()\n",
    "cols.insert(0, cols.pop(cols.index('datetime')))\n",
    "new_off_chain = new_off_chain.reindex(columns=cols)"
   ]
  },
  {
   "cell_type": "code",
   "execution_count": null,
   "metadata": {},
   "outputs": [],
   "source": [
    "new_off_chain.head()"
   ]
  },
  {
   "cell_type": "code",
   "execution_count": null,
   "metadata": {},
   "outputs": [],
   "source": [
    "new_off_chain = new_off_chain.drop(new_off_chain[new_off_chain['KuCoin']>0][:1].index)\n",
    "new_off_chain = new_off_chain.drop(new_off_chain[new_off_chain['HitBTC']>0][:1].index)\n",
    "# new_off_chain = new_off_chain.drop(new_off_chain[new_off_chain['Coinex']>0][:1].index)\n",
    "new_off_chain = new_off_chain.drop(new_off_chain[new_off_chain['Bitmax']>0][:1].index)\n",
    "\n",
    "new_on_chain = new_on_chain[new_on_chain.index.isin(new_off_chain.index)]\n",
    "new_off_chain.max()"
   ]
  },
  {
   "cell_type": "code",
   "execution_count": null,
   "metadata": {},
   "outputs": [],
   "source": [
    "new_off_chain['volumefrom_Binance'].max()\n",
    "new_off_chain['volumefrom_Binance'].idxmax(axis=0, skipna=True)\n",
    "new_off_chain['volumefrom_Binance'].argmax()\n",
    "\n",
    "new_off_chain.iloc[9765:9768]\n",
    "\n",
    "new_off_chain[new_off_chain.index == 1557925200].index\n",
    "\n",
    "idx = new_off_chain.index.get_loc(1557925200)\n",
    "new_off_chain.iloc[idx - 2 : idx + 2]"
   ]
  },
  {
   "cell_type": "code",
   "execution_count": null,
   "metadata": {},
   "outputs": [],
   "source": [
    "from statsmodels.tsa.stattools import adfuller\n",
    "import statsmodels.api as sm\n",
    "\n",
    "def test_adf(series, title=''):\n",
    "    dfout={}\n",
    "    dftest=sm.tsa.adfuller(series.dropna(), autolag='AIC', regression='ct')\n",
    "    for key,val in dftest[4].items():\n",
    "        dfout[f'critical value ({key})']=val\n",
    "    if dftest[1]<=0.05:\n",
    "        print(\"Strong evidence against Null Hypothesis\")\n",
    "        print(\"Reject Null Hypothesis - Data is Stationary\")\n",
    "        print(\"Data is Stationary\", title)\n",
    "    else:\n",
    "        print(\"Strong evidence for  Null Hypothesis\")\n",
    "        print(\"Accept Null Hypothesis - Data is not Stationary\")\n",
    "        print(\"Data is NOT Stationary for\", title)"
   ]
  },
  {
   "cell_type": "code",
   "execution_count": null,
   "metadata": {},
   "outputs": [],
   "source": [
    "test_adf(new_off_chain['volumeto_Binance'], \" Stock Price\")"
   ]
  },
  {
   "cell_type": "code",
   "execution_count": null,
   "metadata": {},
   "outputs": [],
   "source": [
    "a = \"to_\"\n",
    "if agg_type == 'sender':\n",
    "    a = \"from_\"\n",
    "file2 = token_name + \"_ammount_\" + a \n",
    "save_file = \"../data/\" + file2 + \"price_diff_volume_diff.csv\"\n",
    "\n",
    "new_off_chain.to_csv(save_file,header=True)\n",
    "\n",
    "file3 = \"../data/\" + token_name + \"_amount_\" + a +'data.csv'\n",
    "\n",
    "new_on_chain.to_csv(file3,header=True)"
   ]
  },
  {
   "cell_type": "code",
   "execution_count": null,
   "metadata": {},
   "outputs": [],
   "source": []
  }
 ],
 "metadata": {
  "kernelspec": {
   "display_name": "Python 3",
   "language": "python",
   "name": "python3"
  },
  "language_info": {
   "codemirror_mode": {
    "name": "ipython",
    "version": 3
   },
   "file_extension": ".py",
   "mimetype": "text/x-python",
   "name": "python",
   "nbconvert_exporter": "python",
   "pygments_lexer": "ipython3",
   "version": "3.7.5"
  }
 },
 "nbformat": 4,
 "nbformat_minor": 4
}
