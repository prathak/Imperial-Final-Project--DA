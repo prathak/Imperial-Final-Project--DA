{
 "cells": [
  {
   "cell_type": "code",
   "execution_count": null,
   "metadata": {},
   "outputs": [],
   "source": [
    "import pandas as pd\n",
    "from pymongo import MongoClient\n",
    "import datetime\n",
    "\n",
    "def _connect_mongo(db,username, password):\n",
    "    \"\"\" A util for making a connection to mongo \"\"\"\n",
    "\n",
    "    mongo_uri = 'mongo.dsi.ic.ac.uk:27017'\n",
    "    conn = MongoClient(mongo_uri,tz_aware=True)\n",
    "    database = conn[db]\n",
    "    database.authenticate(username, password)\n",
    "    return database\n",
    "\n",
    "\n",
    "def get_collections(db, username=None, password=None):\n",
    "    \"\"\" Read from Mongo and Store into DataFrame \"\"\"\n",
    "\n",
    "    # Connect to MongoDB\n",
    "    db = _connect_mongo(db, username, password)\n",
    "    all_collections = db.list_collection_names()\n",
    "    print(\"Length : \" ,len(all_collections))\n",
    "    return all_collections\n",
    "\n",
    "def get_data(db, username=None, password=None, no_id=True, collection=None, query={}):\n",
    "    db = _connect_mongo(db, username, password)\n",
    "    cursor = db[collection].find(query).limit(3)\n",
    "    # Expand the cursor and construct the DataFrame\n",
    "    df =  pd.DataFrame(list(cursor))\n",
    "    return df\n",
    "    \n",
    "def get_erc_data(db, username=None, password=None, no_id=True, collection=None, query={}):\n",
    "    db = _connect_mongo(db, username, password)\n",
    "\n",
    "    cursor = db[collection].find({'tx_time' : { '$gte': '2018-01-01T01:00:00.000+00:00' }})\n",
    "    # Expand the cursor and construct the DataFrame\n",
    "    df =  pd.DataFrame(list(cursor))\n",
    "    df[\"time\"] = pd.to_datetime(pd.to_datetime(df['tx_time']).dt.strftime(\"%Y-%m-%d %H:%M:%S\"))\n",
    "\n",
    "    return df"
   ]
  },
  {
   "cell_type": "code",
   "execution_count": null,
   "metadata": {},
   "outputs": [],
   "source": [
    "def get_erc_data_for_collections(collections):\n",
    "    final = []\n",
    "    for collection in collections:\n",
    "        print(collection)\n",
    "        dff = get_erc_data('ERC20Analysis','pratha','ChangeMe42', collection=collection)\n",
    "        dff['token'] = collection\n",
    "        final.append(dff)\n",
    "    return final"
   ]
  },
  {
   "cell_type": "code",
   "execution_count": null,
   "metadata": {},
   "outputs": [],
   "source": [
    "final = get_erc_data_for_collections(['OMG'])\n",
    "dff = pd.concat(final)\n",
    "dff.count()"
   ]
  },
  {
   "cell_type": "code",
   "execution_count": null,
   "metadata": {},
   "outputs": [],
   "source": [
    "dff.to_csv('OMG_data.csv')"
   ]
  }
 ],
 "metadata": {
  "kernelspec": {
   "display_name": "Python 3",
   "language": "python",
   "name": "python3"
  },
  "language_info": {
   "codemirror_mode": {
    "name": "ipython",
    "version": 3
   },
   "file_extension": ".py",
   "mimetype": "text/x-python",
   "name": "python",
   "nbconvert_exporter": "python",
   "pygments_lexer": "ipython3",
   "version": "3.7.5"
  }
 },
 "nbformat": 4,
 "nbformat_minor": 2
}
